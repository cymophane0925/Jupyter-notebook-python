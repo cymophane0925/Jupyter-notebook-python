{
 "cells": [
  {
   "cell_type": "code",
   "execution_count": 3,
   "metadata": {},
   "outputs": [],
   "source": [
    "def square(x) :\n",
    "    return x**2\n"
   ]
  },
  {
   "cell_type": "code",
   "execution_count": 4,
   "metadata": {},
   "outputs": [
    {
     "data": {
      "text/plain": [
       "16"
      ]
     },
     "execution_count": 4,
     "metadata": {},
     "output_type": "execute_result"
    }
   ],
   "source": [
    "square(4)"
   ]
  },
  {
   "cell_type": "markdown",
   "metadata": {},
   "source": [
    "## 函數的用法\n",
    "def square(X) #一個要使用的函數<P>\n",
    "    return x**2 #這個函數想要的結果 \n",
    "    \n"
   ]
  },
  {
   "cell_type": "markdown",
   "metadata": {},
   "source": [
    "## For 迴圈\n",
    "### 在一個list裡執行(自串,range,...)\n",
    "> For 設定的物件 in 某個list +最後一定要加上冒號 <p>"
   ]
  },
  {
   "cell_type": "code",
   "execution_count": 1,
   "metadata": {},
   "outputs": [
    {
     "name": "stdout",
     "output_type": "stream",
     "text": [
      "1\n",
      "2\n",
      "3\n",
      "4\n",
      "5\n",
      "6\n",
      "7\n",
      "10\n"
     ]
    }
   ],
   "source": [
    "L = [1,2,3,4,5,6,7,10]\n",
    "for i in L :\n",
    "    print(i)"
   ]
  },
  {
   "cell_type": "code",
   "execution_count": 9,
   "metadata": {},
   "outputs": [
    {
     "name": "stdout",
     "output_type": "stream",
     "text": [
      "0\n",
      "2\n",
      "4\n",
      "6\n",
      "8\n"
     ]
    }
   ],
   "source": [
    "X = range(0, 10,2)\n",
    "for i in X :\n",
    "    print(i)"
   ]
  },
  {
   "cell_type": "markdown",
   "metadata": {},
   "source": [
    "## Range函數\n",
    "### range(起始數字 , 最終數字,公差)"
   ]
  },
  {
   "cell_type": "markdown",
   "metadata": {},
   "source": [
    "## List 切割\n",
    "### 位置算法\n",
    ">![位置算法](list.PNG)\n",
    "### 切割位置\n",
    ">![切割位置](切割.PNG)"
   ]
  },
  {
   "cell_type": "markdown",
   "metadata": {},
   "source": [
    "## 終極密碼猜數字\n",
    "#### 使用%pylab line 做出隨機猜數字\n",
    "```python\n",
    "x = randint(1, 101)\n",
    "i = 0\n",
    "n = 100\n",
    "q = 0\n",
    "while i < 100:\n",
    "z = float(input(\">> \"))\n",
    "if z == x:\n",
    "print(\"bingo\")\n",
    "elif z > x :\n",
    "print(str(z) +\"至\" + str(min(q,n)))\n",
    "n = z\n",
    "elif z < x:\n",
    "print(str(z) + \"至\" + str(max(q,n)))\n",
    "q = z\n",
    "i = i + 1\n",
    "```"
   ]
  },
  {
   "cell_type": "code",
   "execution_count": null,
   "metadata": {},
   "outputs": [],
   "source": []
  }
 ],
 "metadata": {
  "kernelspec": {
   "display_name": "Python 3",
   "language": "python",
   "name": "python3"
  },
  "language_info": {
   "codemirror_mode": {
    "name": "ipython",
    "version": 3
   },
   "file_extension": ".py",
   "mimetype": "text/x-python",
   "name": "python",
   "nbconvert_exporter": "python",
   "pygments_lexer": "ipython3",
   "version": "3.7.4"
  }
 },
 "nbformat": 4,
 "nbformat_minor": 2
}
