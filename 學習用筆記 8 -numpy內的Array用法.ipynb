{
 "cells": [
  {
   "cell_type": "code",
   "execution_count": 2,
   "metadata": {},
   "outputs": [
    {
     "name": "stdout",
     "output_type": "stream",
     "text": [
      "99.0\n",
      "104\n",
      "212\n",
      "140\n",
      "32\n",
      "-40\n"
     ]
    }
   ],
   "source": [
    "#華氏= (攝氏)(9/5) + 32.\n",
    "C = [37.5 , 40 , 100 , 60 , 0 , -40]\n",
    "for k in C:\n",
    "    print(k*9//5+32)"
   ]
  },
  {
   "cell_type": "code",
   "execution_count": 7,
   "metadata": {},
   "outputs": [
    {
     "name": "stdout",
     "output_type": "stream",
     "text": [
      "[99.0]\n",
      "[99.0, 104]\n",
      "[99.0, 104, 212]\n",
      "[99.0, 104, 212, 140]\n",
      "[99.0, 104, 212, 140, 32]\n",
      "[99.0, 104, 212, 140, 32, -40]\n"
     ]
    }
   ],
   "source": [
    "F = []\n",
    "for k in C:\n",
    "    ff = k*9//5+32\n",
    "    F.append(ff)"
   ]
  },
  {
   "cell_type": "code",
   "execution_count": 6,
   "metadata": {},
   "outputs": [
    {
     "data": {
      "text/plain": [
       "[99.0, 104, 212, 140, 32, -40]"
      ]
     },
     "execution_count": 6,
     "metadata": {},
     "output_type": "execute_result"
    }
   ],
   "source": [
    "F"
   ]
  },
  {
   "cell_type": "code",
   "execution_count": 8,
   "metadata": {},
   "outputs": [],
   "source": [
    "%matplotlib inline\n",
    "import numpy as np\n",
    "import matplotlib.pyplot as plt"
   ]
  },
  {
   "cell_type": "code",
   "execution_count": 9,
   "metadata": {},
   "outputs": [],
   "source": [
    "#array 用法\n",
    "C = [37.5 , 40 , 100 , 60 , 0 , -40]\n",
    "\n",
    "Celsius = np.array(C)"
   ]
  },
  {
   "cell_type": "code",
   "execution_count": 10,
   "metadata": {},
   "outputs": [
    {
     "data": {
      "text/plain": [
       "array([ 99., 104., 212., 140.,  32., -40.])"
      ]
     },
     "execution_count": 10,
     "metadata": {},
     "output_type": "execute_result"
    }
   ],
   "source": [
    "Celsius * 9//5+32"
   ]
  },
  {
   "cell_type": "markdown",
   "metadata": {},
   "source": [
    "## <font color ='red'>Array用法</font>\n",
    "### *Array可以使用類似向量運算*\n",
    "#### 意思就是說原本List無法直接做運算，使用numpy內的array就可以直接做運算\n",
    ">1.需`import numpy`並`np.arry(你的List)` <P>\n",
    "2.接下來(你的List)就可以直接做運算\n",
    "    \n",
    ">```python\n",
    "%matplotlib inline     #呼叫matplotlib\n",
    "import numpy as np     #import numpy\n",
    "import matplotlib.pyplot as plt     #import matplotlib.pyplot 繪圖\n",
    "C = [37.5 , 40 , 100 , 60 , 0 , -40]     #你的List\n",
    "Celsius = np.array(C)     #Celsius是攝氏的英文，在這裡是轉變為array\n",
    "Celsius * 9//5+32     #直接運算\n",
    "```\n",
    "#### <font color = 'blue'>既然為向量 就可使用向量內積`np.dot(m,n)`</font>"
   ]
  },
  {
   "cell_type": "code",
   "execution_count": 11,
   "metadata": {},
   "outputs": [],
   "source": [
    "G = np.array([80 , 90, 100])\n",
    "W = np.array([0.3, 0.4, 0.3])"
   ]
  },
  {
   "cell_type": "code",
   "execution_count": 14,
   "metadata": {},
   "outputs": [
    {
     "data": {
      "text/plain": [
       "array([24., 36., 30.])"
      ]
     },
     "execution_count": 14,
     "metadata": {},
     "output_type": "execute_result"
    }
   ],
   "source": [
    "G*W"
   ]
  },
  {
   "cell_type": "code",
   "execution_count": 15,
   "metadata": {},
   "outputs": [
    {
     "data": {
      "text/plain": [
       "90.0"
      ]
     },
     "execution_count": 15,
     "metadata": {},
     "output_type": "execute_result"
    }
   ],
   "source": [
    "np.sum(G*W)"
   ]
  },
  {
   "cell_type": "code",
   "execution_count": 16,
   "metadata": {},
   "outputs": [
    {
     "data": {
      "text/plain": [
       "90.0"
      ]
     },
     "execution_count": 16,
     "metadata": {},
     "output_type": "execute_result"
    }
   ],
   "source": [
    "#向量內積 np.dot(m,n)\n",
    "np.dot(G,W)"
   ]
  },
  {
   "cell_type": "code",
   "execution_count": 17,
   "metadata": {},
   "outputs": [],
   "source": [
    "#計算多位同學成績\n",
    "G = np.array([[85 ,95 ,100], [75 ,68 ,78], [98 ,88 ,95], [85 ,78 ,68]])\n",
    "W = np.array([0.3 ,0.4 ,0.3])"
   ]
  },
  {
   "cell_type": "code",
   "execution_count": 18,
   "metadata": {},
   "outputs": [
    {
     "data": {
      "text/plain": [
       "array([[25.5, 38. , 30. ],\n",
       "       [22.5, 27.2, 23.4],\n",
       "       [29.4, 35.2, 28.5],\n",
       "       [25.5, 31.2, 20.4]])"
      ]
     },
     "execution_count": 18,
     "metadata": {},
     "output_type": "execute_result"
    }
   ],
   "source": [
    "G*W"
   ]
  },
  {
   "cell_type": "code",
   "execution_count": 20,
   "metadata": {},
   "outputs": [
    {
     "data": {
      "text/plain": [
       "array([93.5, 73.1, 93.1, 77.1])"
      ]
     },
     "execution_count": 20,
     "metadata": {},
     "output_type": "execute_result"
    }
   ],
   "source": [
    "np.dot(G,W) #array 不只一維，也可以二維"
   ]
  },
  {
   "cell_type": "code",
   "execution_count": null,
   "metadata": {},
   "outputs": [],
   "source": []
  }
 ],
 "metadata": {
  "kernelspec": {
   "display_name": "Python 3",
   "language": "python",
   "name": "python3"
  },
  "language_info": {
   "codemirror_mode": {
    "name": "ipython",
    "version": 3
   },
   "file_extension": ".py",
   "mimetype": "text/x-python",
   "name": "python",
   "nbconvert_exporter": "python",
   "pygments_lexer": "ipython3",
   "version": "3.7.4"
  }
 },
 "nbformat": 4,
 "nbformat_minor": 2
}
