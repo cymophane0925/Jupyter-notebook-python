{
 "cells": [
  {
   "cell_type": "markdown",
   "metadata": {},
   "source": [
    "# <font color = \"blue\">安裝Pandas-datareader<font>\n",
    "* <font size = 4>使用Anaconda prompt 安裝<font><br>`Key入 conda install pandas-datareader`\n",
    "* <font size = 4>更新檔案Pandas-datareader<font><br>`Key入 conda update pandas-datareader`"
   ]
  },
  {
   "cell_type": "code",
   "execution_count": 1,
   "metadata": {},
   "outputs": [],
   "source": [
    "%matplotlib inline\n",
    "import numpy as np\n",
    "import matplotlib.pyplot as plt\n",
    "import pandas as pd"
   ]
  },
  {
   "cell_type": "code",
   "execution_count": 2,
   "metadata": {},
   "outputs": [],
   "source": [
    "import pandas_datareader.data as web"
   ]
  },
  {
   "cell_type": "code",
   "execution_count": 66,
   "metadata": {},
   "outputs": [],
   "source": [
    "df = web.DataReader(\"2330.TW\", \"yahoo\", start =\"2012-1-1\", end = \"2020-3-25\") #read 台積電(2330.TW)股票資料"
   ]
  },
  {
   "cell_type": "code",
   "execution_count": 67,
   "metadata": {},
   "outputs": [
    {
     "data": {
      "text/html": [
       "<div>\n",
       "<style scoped>\n",
       "    .dataframe tbody tr th:only-of-type {\n",
       "        vertical-align: middle;\n",
       "    }\n",
       "\n",
       "    .dataframe tbody tr th {\n",
       "        vertical-align: top;\n",
       "    }\n",
       "\n",
       "    .dataframe thead th {\n",
       "        text-align: right;\n",
       "    }\n",
       "</style>\n",
       "<table border=\"1\" class=\"dataframe\">\n",
       "  <thead>\n",
       "    <tr style=\"text-align: right;\">\n",
       "      <th></th>\n",
       "      <th>High</th>\n",
       "      <th>Low</th>\n",
       "      <th>Open</th>\n",
       "      <th>Close</th>\n",
       "      <th>Volume</th>\n",
       "      <th>Adj Close</th>\n",
       "    </tr>\n",
       "    <tr>\n",
       "      <th>Date</th>\n",
       "      <th></th>\n",
       "      <th></th>\n",
       "      <th></th>\n",
       "      <th></th>\n",
       "      <th></th>\n",
       "      <th></th>\n",
       "    </tr>\n",
       "  </thead>\n",
       "  <tbody>\n",
       "    <tr>\n",
       "      <td>2012-01-02</td>\n",
       "      <td>75.400002</td>\n",
       "      <td>69.800003</td>\n",
       "      <td>75.000000</td>\n",
       "      <td>69.800003</td>\n",
       "      <td>26261000.0</td>\n",
       "      <td>52.664635</td>\n",
       "    </tr>\n",
       "    <tr>\n",
       "      <td>2012-01-03</td>\n",
       "      <td>75.900002</td>\n",
       "      <td>70.500000</td>\n",
       "      <td>75.500000</td>\n",
       "      <td>70.500000</td>\n",
       "      <td>56936000.0</td>\n",
       "      <td>53.192787</td>\n",
       "    </tr>\n",
       "    <tr>\n",
       "      <td>2012-01-04</td>\n",
       "      <td>76.099998</td>\n",
       "      <td>70.500000</td>\n",
       "      <td>76.099998</td>\n",
       "      <td>70.500000</td>\n",
       "      <td>56684000.0</td>\n",
       "      <td>53.192787</td>\n",
       "    </tr>\n",
       "    <tr>\n",
       "      <td>2012-01-05</td>\n",
       "      <td>76.000000</td>\n",
       "      <td>75.300003</td>\n",
       "      <td>76.000000</td>\n",
       "      <td>76.000000</td>\n",
       "      <td>56718000.0</td>\n",
       "      <td>57.342579</td>\n",
       "    </tr>\n",
       "    <tr>\n",
       "      <td>2012-01-06</td>\n",
       "      <td>75.900002</td>\n",
       "      <td>74.900002</td>\n",
       "      <td>75.900002</td>\n",
       "      <td>75.599998</td>\n",
       "      <td>29866000.0</td>\n",
       "      <td>57.040771</td>\n",
       "    </tr>\n",
       "    <tr>\n",
       "      <td>...</td>\n",
       "      <td>...</td>\n",
       "      <td>...</td>\n",
       "      <td>...</td>\n",
       "      <td>...</td>\n",
       "      <td>...</td>\n",
       "      <td>...</td>\n",
       "    </tr>\n",
       "    <tr>\n",
       "      <td>2020-03-19</td>\n",
       "      <td>253.000000</td>\n",
       "      <td>235.500000</td>\n",
       "      <td>252.000000</td>\n",
       "      <td>248.000000</td>\n",
       "      <td>160811697.0</td>\n",
       "      <td>248.000000</td>\n",
       "    </tr>\n",
       "    <tr>\n",
       "      <td>2020-03-20</td>\n",
       "      <td>270.000000</td>\n",
       "      <td>256.000000</td>\n",
       "      <td>258.500000</td>\n",
       "      <td>270.000000</td>\n",
       "      <td>157664726.0</td>\n",
       "      <td>270.000000</td>\n",
       "    </tr>\n",
       "    <tr>\n",
       "      <td>2020-03-23</td>\n",
       "      <td>262.500000</td>\n",
       "      <td>252.000000</td>\n",
       "      <td>257.000000</td>\n",
       "      <td>255.000000</td>\n",
       "      <td>76466709.0</td>\n",
       "      <td>255.000000</td>\n",
       "    </tr>\n",
       "    <tr>\n",
       "      <td>2020-03-24</td>\n",
       "      <td>274.000000</td>\n",
       "      <td>266.000000</td>\n",
       "      <td>268.000000</td>\n",
       "      <td>267.500000</td>\n",
       "      <td>81952933.0</td>\n",
       "      <td>267.500000</td>\n",
       "    </tr>\n",
       "    <tr>\n",
       "      <td>2020-03-25</td>\n",
       "      <td>280.000000</td>\n",
       "      <td>274.000000</td>\n",
       "      <td>276.500000</td>\n",
       "      <td>277.000000</td>\n",
       "      <td>79447199.0</td>\n",
       "      <td>277.000000</td>\n",
       "    </tr>\n",
       "  </tbody>\n",
       "</table>\n",
       "<p>2011 rows × 6 columns</p>\n",
       "</div>"
      ],
      "text/plain": [
       "                  High         Low        Open       Close       Volume  \\\n",
       "Date                                                                      \n",
       "2012-01-02   75.400002   69.800003   75.000000   69.800003   26261000.0   \n",
       "2012-01-03   75.900002   70.500000   75.500000   70.500000   56936000.0   \n",
       "2012-01-04   76.099998   70.500000   76.099998   70.500000   56684000.0   \n",
       "2012-01-05   76.000000   75.300003   76.000000   76.000000   56718000.0   \n",
       "2012-01-06   75.900002   74.900002   75.900002   75.599998   29866000.0   \n",
       "...                ...         ...         ...         ...          ...   \n",
       "2020-03-19  253.000000  235.500000  252.000000  248.000000  160811697.0   \n",
       "2020-03-20  270.000000  256.000000  258.500000  270.000000  157664726.0   \n",
       "2020-03-23  262.500000  252.000000  257.000000  255.000000   76466709.0   \n",
       "2020-03-24  274.000000  266.000000  268.000000  267.500000   81952933.0   \n",
       "2020-03-25  280.000000  274.000000  276.500000  277.000000   79447199.0   \n",
       "\n",
       "             Adj Close  \n",
       "Date                    \n",
       "2012-01-02   52.664635  \n",
       "2012-01-03   53.192787  \n",
       "2012-01-04   53.192787  \n",
       "2012-01-05   57.342579  \n",
       "2012-01-06   57.040771  \n",
       "...                ...  \n",
       "2020-03-19  248.000000  \n",
       "2020-03-20  270.000000  \n",
       "2020-03-23  255.000000  \n",
       "2020-03-24  267.500000  \n",
       "2020-03-25  277.000000  \n",
       "\n",
       "[2011 rows x 6 columns]"
      ]
     },
     "execution_count": 67,
     "metadata": {},
     "output_type": "execute_result"
    }
   ],
   "source": [
    "df"
   ]
  },
  {
   "cell_type": "code",
   "execution_count": 68,
   "metadata": {},
   "outputs": [],
   "source": [
    "P = df[\"Adj Close\"]"
   ]
  },
  {
   "cell_type": "code",
   "execution_count": 69,
   "metadata": {},
   "outputs": [
    {
     "data": {
      "text/plain": [
       "<matplotlib.axes._subplots.AxesSubplot at 0xe29bfc8>"
      ]
     },
     "execution_count": 69,
     "metadata": {},
     "output_type": "execute_result"
    },
    {
     "data": {
      "image/png": "[encoded data removed]",
      "text/plain": [
       "<Figure size 432x288 with 1 Axes>"
      ]
     },
     "metadata": {
      "needs_background": "light"
     },
     "output_type": "display_data"
    }
   ],
   "source": [
    "P.plot()"
   ]
  },
  {
   "cell_type": "markdown",
   "metadata": {},
   "source": [
    "# 計算報酬率\n",
    "><font size = 6>$\\frac{P_{t}-P_{t-1}}{P_{t-1}}\\qquad $<font>"
   ]
  },
  {
   "cell_type": "code",
   "execution_count": 70,
   "metadata": {},
   "outputs": [],
   "source": [
    "r = P.diff()/P"
   ]
  },
  {
   "cell_type": "code",
   "execution_count": 71,
   "metadata": {},
   "outputs": [
    {
     "data": {
      "text/plain": [
       "<matplotlib.axes._subplots.AxesSubplot at 0xe234a08>"
      ]
     },
     "execution_count": 71,
     "metadata": {},
     "output_type": "execute_result"
    },
    {
     "data": {
      "image/png": "[encoded data removed]",
      "text/plain": [
       "<Figure size 432x288 with 1 Axes>"
      ]
     },
     "metadata": {
      "needs_background": "light"
     },
     "output_type": "display_data"
    }
   ],
   "source": [
    "r.plot()"
   ]
  },
  {
   "cell_type": "code",
   "execution_count": 72,
   "metadata": {},
   "outputs": [
    {
     "data": {
      "text/plain": [
       "Date\n",
       "2012-01-02           NaN\n",
       "2012-01-03           NaN\n",
       "2012-01-04           NaN\n",
       "2012-01-05           NaN\n",
       "2012-01-06           NaN\n",
       "                 ...    \n",
       "2020-03-19    300.453371\n",
       "2020-03-20    297.834860\n",
       "2020-03-23    294.491110\n",
       "2020-03-24    292.019955\n",
       "2020-03-25    289.924763\n",
       "Name: Adj Close, Length: 2011, dtype: float64"
      ]
     },
     "execution_count": 72,
     "metadata": {},
     "output_type": "execute_result"
    }
   ],
   "source": [
    "P.rolling(window=20).mean()"
   ]
  },
  {
   "cell_type": "code",
   "execution_count": 74,
   "metadata": {},
   "outputs": [
    {
     "data": {
      "text/plain": [
       "<matplotlib.axes._subplots.AxesSubplot at 0xe14a088>"
      ]
     },
     "execution_count": 74,
     "metadata": {},
     "output_type": "execute_result"
    },
    {
     "data": {
      "image/png": "[encoded data removed]",
      "text/plain": [
       "<Figure size 432x288 with 1 Axes>"
      ]
     },
     "metadata": {
      "needs_background": "light"
     },
     "output_type": "display_data"
    }
   ],
   "source": [
    "P.plot()\n",
    "P.rolling(window=200).mean().plot() # 移動平均線200日\n",
    "P.rolling(window=60).mean().plot() # 移動平均線60日"
   ]
  },
  {
   "cell_type": "code",
   "execution_count": null,
   "metadata": {},
   "outputs": [],
   "source": []
  }
 ],
 "metadata": {
  "kernelspec": {
   "display_name": "Python 3",
   "language": "python",
   "name": "python3"
  },
  "language_info": {
   "codemirror_mode": {
    "name": "ipython",
    "version": 3
   },
   "file_extension": ".py",
   "mimetype": "text/x-python",
   "name": "python",
   "nbconvert_exporter": "python",
   "pygments_lexer": "ipython3",
   "version": "3.7.4"
  }
 },
 "nbformat": 4,
 "nbformat_minor": 2
}
