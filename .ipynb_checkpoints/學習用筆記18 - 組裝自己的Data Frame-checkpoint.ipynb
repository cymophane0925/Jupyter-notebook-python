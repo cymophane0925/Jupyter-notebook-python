{
 "cells": [
  {
   "cell_type": "code",
   "execution_count": 1,
   "metadata": {},
   "outputs": [],
   "source": [
    "%matplotlib inline\n",
    "import numpy as np\n",
    "import matplotlib.pyplot as plt\n",
    "import pandas as pd"
   ]
  },
  {
   "cell_type": "code",
   "execution_count": 2,
   "metadata": {},
   "outputs": [],
   "source": [
    "mydata = np.random.randn(4,3)"
   ]
  },
  {
   "cell_type": "code",
   "execution_count": 3,
   "metadata": {},
   "outputs": [
    {
     "data": {
      "text/plain": [
       "array([[ 0.34526557,  0.2133003 , -0.26764918],\n",
       "       [-0.72223511, -1.11857339, -0.13082058],\n",
       "       [ 1.70196307,  0.29858081, -0.49542935],\n",
       "       [ 0.13463726, -1.17765831, -1.17835553]])"
      ]
     },
     "execution_count": 3,
     "metadata": {},
     "output_type": "execute_result"
    }
   ],
   "source": [
    "mydata"
   ]
  },
  {
   "cell_type": "code",
   "execution_count": 4,
   "metadata": {},
   "outputs": [],
   "source": [
    "df1 = pd.DataFrame(mydata, columns= list(\"ABC\"))  #生成dataframe pd.DataFrame(資料,columns=list(\"資料行名稱\"))"
   ]
  },
  {
   "cell_type": "code",
   "execution_count": 5,
   "metadata": {},
   "outputs": [
    {
     "data": {
      "text/html": [
       "<div>\n",
       "<style scoped>\n",
       "    .dataframe tbody tr th:only-of-type {\n",
       "        vertical-align: middle;\n",
       "    }\n",
       "\n",
       "    .dataframe tbody tr th {\n",
       "        vertical-align: top;\n",
       "    }\n",
       "\n",
       "    .dataframe thead th {\n",
       "        text-align: right;\n",
       "    }\n",
       "</style>\n",
       "<table border=\"1\" class=\"dataframe\">\n",
       "  <thead>\n",
       "    <tr style=\"text-align: right;\">\n",
       "      <th></th>\n",
       "      <th>A</th>\n",
       "      <th>B</th>\n",
       "      <th>C</th>\n",
       "    </tr>\n",
       "  </thead>\n",
       "  <tbody>\n",
       "    <tr>\n",
       "      <td>0</td>\n",
       "      <td>0.345266</td>\n",
       "      <td>0.213300</td>\n",
       "      <td>-0.267649</td>\n",
       "    </tr>\n",
       "    <tr>\n",
       "      <td>1</td>\n",
       "      <td>-0.722235</td>\n",
       "      <td>-1.118573</td>\n",
       "      <td>-0.130821</td>\n",
       "    </tr>\n",
       "    <tr>\n",
       "      <td>2</td>\n",
       "      <td>1.701963</td>\n",
       "      <td>0.298581</td>\n",
       "      <td>-0.495429</td>\n",
       "    </tr>\n",
       "    <tr>\n",
       "      <td>3</td>\n",
       "      <td>0.134637</td>\n",
       "      <td>-1.177658</td>\n",
       "      <td>-1.178356</td>\n",
       "    </tr>\n",
       "  </tbody>\n",
       "</table>\n",
       "</div>"
      ],
      "text/plain": [
       "          A         B         C\n",
       "0  0.345266  0.213300 -0.267649\n",
       "1 -0.722235 -1.118573 -0.130821\n",
       "2  1.701963  0.298581 -0.495429\n",
       "3  0.134637 -1.177658 -1.178356"
      ]
     },
     "execution_count": 5,
     "metadata": {},
     "output_type": "execute_result"
    }
   ],
   "source": [
    "df1"
   ]
  },
  {
   "cell_type": "code",
   "execution_count": 6,
   "metadata": {},
   "outputs": [],
   "source": [
    "df2 = pd.DataFrame(np.random.randn(3,3),columns=list(\"ABC\"))"
   ]
  },
  {
   "cell_type": "code",
   "execution_count": 7,
   "metadata": {},
   "outputs": [
    {
     "data": {
      "text/html": [
       "<div>\n",
       "<style scoped>\n",
       "    .dataframe tbody tr th:only-of-type {\n",
       "        vertical-align: middle;\n",
       "    }\n",
       "\n",
       "    .dataframe tbody tr th {\n",
       "        vertical-align: top;\n",
       "    }\n",
       "\n",
       "    .dataframe thead th {\n",
       "        text-align: right;\n",
       "    }\n",
       "</style>\n",
       "<table border=\"1\" class=\"dataframe\">\n",
       "  <thead>\n",
       "    <tr style=\"text-align: right;\">\n",
       "      <th></th>\n",
       "      <th>A</th>\n",
       "      <th>B</th>\n",
       "      <th>C</th>\n",
       "    </tr>\n",
       "  </thead>\n",
       "  <tbody>\n",
       "    <tr>\n",
       "      <td>0</td>\n",
       "      <td>0.336873</td>\n",
       "      <td>1.352026</td>\n",
       "      <td>1.056701</td>\n",
       "    </tr>\n",
       "    <tr>\n",
       "      <td>1</td>\n",
       "      <td>0.732784</td>\n",
       "      <td>0.355167</td>\n",
       "      <td>-0.155345</td>\n",
       "    </tr>\n",
       "    <tr>\n",
       "      <td>2</td>\n",
       "      <td>1.474297</td>\n",
       "      <td>0.011197</td>\n",
       "      <td>-1.275871</td>\n",
       "    </tr>\n",
       "  </tbody>\n",
       "</table>\n",
       "</div>"
      ],
      "text/plain": [
       "          A         B         C\n",
       "0  0.336873  1.352026  1.056701\n",
       "1  0.732784  0.355167 -0.155345\n",
       "2  1.474297  0.011197 -1.275871"
      ]
     },
     "execution_count": 7,
     "metadata": {},
     "output_type": "execute_result"
    }
   ],
   "source": [
    "df2"
   ]
  },
  {
   "cell_type": "code",
   "execution_count": 8,
   "metadata": {},
   "outputs": [],
   "source": [
    "df3 = pd.concat([df1, df2],axis=0) #concat合併dataframe , #axis 控制合併的方向, 方向row為 0, column為 1"
   ]
  },
  {
   "cell_type": "code",
   "execution_count": 9,
   "metadata": {},
   "outputs": [
    {
     "data": {
      "text/html": [
       "<div>\n",
       "<style scoped>\n",
       "    .dataframe tbody tr th:only-of-type {\n",
       "        vertical-align: middle;\n",
       "    }\n",
       "\n",
       "    .dataframe tbody tr th {\n",
       "        vertical-align: top;\n",
       "    }\n",
       "\n",
       "    .dataframe thead th {\n",
       "        text-align: right;\n",
       "    }\n",
       "</style>\n",
       "<table border=\"1\" class=\"dataframe\">\n",
       "  <thead>\n",
       "    <tr style=\"text-align: right;\">\n",
       "      <th></th>\n",
       "      <th>A</th>\n",
       "      <th>B</th>\n",
       "      <th>C</th>\n",
       "    </tr>\n",
       "  </thead>\n",
       "  <tbody>\n",
       "    <tr>\n",
       "      <td>0</td>\n",
       "      <td>0.345266</td>\n",
       "      <td>0.213300</td>\n",
       "      <td>-0.267649</td>\n",
       "    </tr>\n",
       "    <tr>\n",
       "      <td>1</td>\n",
       "      <td>-0.722235</td>\n",
       "      <td>-1.118573</td>\n",
       "      <td>-0.130821</td>\n",
       "    </tr>\n",
       "    <tr>\n",
       "      <td>2</td>\n",
       "      <td>1.701963</td>\n",
       "      <td>0.298581</td>\n",
       "      <td>-0.495429</td>\n",
       "    </tr>\n",
       "    <tr>\n",
       "      <td>3</td>\n",
       "      <td>0.134637</td>\n",
       "      <td>-1.177658</td>\n",
       "      <td>-1.178356</td>\n",
       "    </tr>\n",
       "    <tr>\n",
       "      <td>0</td>\n",
       "      <td>0.336873</td>\n",
       "      <td>1.352026</td>\n",
       "      <td>1.056701</td>\n",
       "    </tr>\n",
       "    <tr>\n",
       "      <td>1</td>\n",
       "      <td>0.732784</td>\n",
       "      <td>0.355167</td>\n",
       "      <td>-0.155345</td>\n",
       "    </tr>\n",
       "    <tr>\n",
       "      <td>2</td>\n",
       "      <td>1.474297</td>\n",
       "      <td>0.011197</td>\n",
       "      <td>-1.275871</td>\n",
       "    </tr>\n",
       "  </tbody>\n",
       "</table>\n",
       "</div>"
      ],
      "text/plain": [
       "          A         B         C\n",
       "0  0.345266  0.213300 -0.267649\n",
       "1 -0.722235 -1.118573 -0.130821\n",
       "2  1.701963  0.298581 -0.495429\n",
       "3  0.134637 -1.177658 -1.178356\n",
       "0  0.336873  1.352026  1.056701\n",
       "1  0.732784  0.355167 -0.155345\n",
       "2  1.474297  0.011197 -1.275871"
      ]
     },
     "execution_count": 9,
     "metadata": {},
     "output_type": "execute_result"
    }
   ],
   "source": [
    "df3"
   ]
  },
  {
   "cell_type": "code",
   "execution_count": 15,
   "metadata": {},
   "outputs": [],
   "source": [
    "df3.index = list(\"甲乙丙丁戊己庚\") #更改index序號"
   ]
  },
  {
   "cell_type": "code",
   "execution_count": 16,
   "metadata": {},
   "outputs": [
    {
     "data": {
      "text/html": [
       "<div>\n",
       "<style scoped>\n",
       "    .dataframe tbody tr th:only-of-type {\n",
       "        vertical-align: middle;\n",
       "    }\n",
       "\n",
       "    .dataframe tbody tr th {\n",
       "        vertical-align: top;\n",
       "    }\n",
       "\n",
       "    .dataframe thead th {\n",
       "        text-align: right;\n",
       "    }\n",
       "</style>\n",
       "<table border=\"1\" class=\"dataframe\">\n",
       "  <thead>\n",
       "    <tr style=\"text-align: right;\">\n",
       "      <th></th>\n",
       "      <th>A</th>\n",
       "      <th>B</th>\n",
       "      <th>C</th>\n",
       "    </tr>\n",
       "  </thead>\n",
       "  <tbody>\n",
       "    <tr>\n",
       "      <td>甲</td>\n",
       "      <td>0.345266</td>\n",
       "      <td>0.213300</td>\n",
       "      <td>-0.267649</td>\n",
       "    </tr>\n",
       "    <tr>\n",
       "      <td>乙</td>\n",
       "      <td>-0.722235</td>\n",
       "      <td>-1.118573</td>\n",
       "      <td>-0.130821</td>\n",
       "    </tr>\n",
       "    <tr>\n",
       "      <td>丙</td>\n",
       "      <td>1.701963</td>\n",
       "      <td>0.298581</td>\n",
       "      <td>-0.495429</td>\n",
       "    </tr>\n",
       "    <tr>\n",
       "      <td>丁</td>\n",
       "      <td>0.134637</td>\n",
       "      <td>-1.177658</td>\n",
       "      <td>-1.178356</td>\n",
       "    </tr>\n",
       "    <tr>\n",
       "      <td>戊</td>\n",
       "      <td>0.336873</td>\n",
       "      <td>1.352026</td>\n",
       "      <td>1.056701</td>\n",
       "    </tr>\n",
       "    <tr>\n",
       "      <td>己</td>\n",
       "      <td>0.732784</td>\n",
       "      <td>0.355167</td>\n",
       "      <td>-0.155345</td>\n",
       "    </tr>\n",
       "    <tr>\n",
       "      <td>庚</td>\n",
       "      <td>1.474297</td>\n",
       "      <td>0.011197</td>\n",
       "      <td>-1.275871</td>\n",
       "    </tr>\n",
       "  </tbody>\n",
       "</table>\n",
       "</div>"
      ],
      "text/plain": [
       "          A         B         C\n",
       "甲  0.345266  0.213300 -0.267649\n",
       "乙 -0.722235 -1.118573 -0.130821\n",
       "丙  1.701963  0.298581 -0.495429\n",
       "丁  0.134637 -1.177658 -1.178356\n",
       "戊  0.336873  1.352026  1.056701\n",
       "己  0.732784  0.355167 -0.155345\n",
       "庚  1.474297  0.011197 -1.275871"
      ]
     },
     "execution_count": 16,
     "metadata": {},
     "output_type": "execute_result"
    }
   ],
   "source": [
    "df3"
   ]
  },
  {
   "cell_type": "code",
   "execution_count": 10,
   "metadata": {},
   "outputs": [],
   "source": [
    "df4 = pd.concat([df1, df2], axis=1)"
   ]
  },
  {
   "cell_type": "code",
   "execution_count": 11,
   "metadata": {},
   "outputs": [
    {
     "data": {
      "text/html": [
       "<div>\n",
       "<style scoped>\n",
       "    .dataframe tbody tr th:only-of-type {\n",
       "        vertical-align: middle;\n",
       "    }\n",
       "\n",
       "    .dataframe tbody tr th {\n",
       "        vertical-align: top;\n",
       "    }\n",
       "\n",
       "    .dataframe thead th {\n",
       "        text-align: right;\n",
       "    }\n",
       "</style>\n",
       "<table border=\"1\" class=\"dataframe\">\n",
       "  <thead>\n",
       "    <tr style=\"text-align: right;\">\n",
       "      <th></th>\n",
       "      <th>A</th>\n",
       "      <th>B</th>\n",
       "      <th>C</th>\n",
       "      <th>A</th>\n",
       "      <th>B</th>\n",
       "      <th>C</th>\n",
       "    </tr>\n",
       "  </thead>\n",
       "  <tbody>\n",
       "    <tr>\n",
       "      <td>0</td>\n",
       "      <td>0.345266</td>\n",
       "      <td>0.213300</td>\n",
       "      <td>-0.267649</td>\n",
       "      <td>0.336873</td>\n",
       "      <td>1.352026</td>\n",
       "      <td>1.056701</td>\n",
       "    </tr>\n",
       "    <tr>\n",
       "      <td>1</td>\n",
       "      <td>-0.722235</td>\n",
       "      <td>-1.118573</td>\n",
       "      <td>-0.130821</td>\n",
       "      <td>0.732784</td>\n",
       "      <td>0.355167</td>\n",
       "      <td>-0.155345</td>\n",
       "    </tr>\n",
       "    <tr>\n",
       "      <td>2</td>\n",
       "      <td>1.701963</td>\n",
       "      <td>0.298581</td>\n",
       "      <td>-0.495429</td>\n",
       "      <td>1.474297</td>\n",
       "      <td>0.011197</td>\n",
       "      <td>-1.275871</td>\n",
       "    </tr>\n",
       "    <tr>\n",
       "      <td>3</td>\n",
       "      <td>0.134637</td>\n",
       "      <td>-1.177658</td>\n",
       "      <td>-1.178356</td>\n",
       "      <td>NaN</td>\n",
       "      <td>NaN</td>\n",
       "      <td>NaN</td>\n",
       "    </tr>\n",
       "  </tbody>\n",
       "</table>\n",
       "</div>"
      ],
      "text/plain": [
       "          A         B         C         A         B         C\n",
       "0  0.345266  0.213300 -0.267649  0.336873  1.352026  1.056701\n",
       "1 -0.722235 -1.118573 -0.130821  0.732784  0.355167 -0.155345\n",
       "2  1.701963  0.298581 -0.495429  1.474297  0.011197 -1.275871\n",
       "3  0.134637 -1.177658 -1.178356       NaN       NaN       NaN"
      ]
     },
     "execution_count": 11,
     "metadata": {},
     "output_type": "execute_result"
    }
   ],
   "source": [
    "df4"
   ]
  },
  {
   "cell_type": "code",
   "execution_count": 19,
   "metadata": {},
   "outputs": [],
   "source": [
    "df4.columns = list(\"ABCDEF\")"
   ]
  },
  {
   "cell_type": "code",
   "execution_count": 20,
   "metadata": {},
   "outputs": [
    {
     "data": {
      "text/html": [
       "<div>\n",
       "<style scoped>\n",
       "    .dataframe tbody tr th:only-of-type {\n",
       "        vertical-align: middle;\n",
       "    }\n",
       "\n",
       "    .dataframe tbody tr th {\n",
       "        vertical-align: top;\n",
       "    }\n",
       "\n",
       "    .dataframe thead th {\n",
       "        text-align: right;\n",
       "    }\n",
       "</style>\n",
       "<table border=\"1\" class=\"dataframe\">\n",
       "  <thead>\n",
       "    <tr style=\"text-align: right;\">\n",
       "      <th></th>\n",
       "      <th>A</th>\n",
       "      <th>B</th>\n",
       "      <th>C</th>\n",
       "      <th>D</th>\n",
       "      <th>E</th>\n",
       "      <th>F</th>\n",
       "    </tr>\n",
       "  </thead>\n",
       "  <tbody>\n",
       "    <tr>\n",
       "      <td>0</td>\n",
       "      <td>0.345266</td>\n",
       "      <td>0.213300</td>\n",
       "      <td>-0.267649</td>\n",
       "      <td>0.336873</td>\n",
       "      <td>1.352026</td>\n",
       "      <td>1.056701</td>\n",
       "    </tr>\n",
       "    <tr>\n",
       "      <td>1</td>\n",
       "      <td>-0.722235</td>\n",
       "      <td>-1.118573</td>\n",
       "      <td>-0.130821</td>\n",
       "      <td>0.732784</td>\n",
       "      <td>0.355167</td>\n",
       "      <td>-0.155345</td>\n",
       "    </tr>\n",
       "    <tr>\n",
       "      <td>2</td>\n",
       "      <td>1.701963</td>\n",
       "      <td>0.298581</td>\n",
       "      <td>-0.495429</td>\n",
       "      <td>1.474297</td>\n",
       "      <td>0.011197</td>\n",
       "      <td>-1.275871</td>\n",
       "    </tr>\n",
       "    <tr>\n",
       "      <td>3</td>\n",
       "      <td>0.134637</td>\n",
       "      <td>-1.177658</td>\n",
       "      <td>-1.178356</td>\n",
       "      <td>NaN</td>\n",
       "      <td>NaN</td>\n",
       "      <td>NaN</td>\n",
       "    </tr>\n",
       "  </tbody>\n",
       "</table>\n",
       "</div>"
      ],
      "text/plain": [
       "          A         B         C         D         E         F\n",
       "0  0.345266  0.213300 -0.267649  0.336873  1.352026  1.056701\n",
       "1 -0.722235 -1.118573 -0.130821  0.732784  0.355167 -0.155345\n",
       "2  1.701963  0.298581 -0.495429  1.474297  0.011197 -1.275871\n",
       "3  0.134637 -1.177658 -1.178356       NaN       NaN       NaN"
      ]
     },
     "execution_count": 20,
     "metadata": {},
     "output_type": "execute_result"
    }
   ],
   "source": [
    "df4"
   ]
  },
  {
   "cell_type": "code",
   "execution_count": null,
   "metadata": {},
   "outputs": [],
   "source": []
  }
 ],
 "metadata": {
  "kernelspec": {
   "display_name": "Python 3",
   "language": "python",
   "name": "python3"
  },
  "language_info": {
   "codemirror_mode": {
    "name": "ipython",
    "version": 3
   },
   "file_extension": ".py",
   "mimetype": "text/x-python",
   "name": "python",
   "nbconvert_exporter": "python",
   "pygments_lexer": "ipython3",
   "version": "3.7.4"
  }
 },
 "nbformat": 4,
 "nbformat_minor": 2
}
