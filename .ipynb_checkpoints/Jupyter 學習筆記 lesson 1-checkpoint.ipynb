{
 "cells": [
  {
   "cell_type": "markdown",
   "metadata": {},
   "source": [
    "# Jupyter netobook 筆記用法\n",
    "\n",
    "## <font color=#0000FF>1.標題用法:</font>\n",
    "\n",
    "大標題用法: Key入 # 標題 (記得#後面加空格)<p>\n",
    "\n",
    "次標題用法: Key入 ## 標題 (一樣要加空格)<P>\n",
    "\n",
    "## <font color=#0000FF>2. 指令:</font>\n",
    "\n",
    "shift+enter : 相當於Enter，有就是輸入<p>\n",
    "\n",
    "Ctrl+m,m :兩次m 做code與Markdown做切換<p>\n",
    "\n",
    "D,D : D按兩次可刪除<p>\n",
    "\n",
    "其他可參考 Help → keyboard shortcuts<p>\n",
    "\n",
    "## <font color=#0000FF>3.網址超連結:</font>\n",
    "\n",
    "Key入: [超連結文字]+(輸入網址)<p>\n",
    "\n",
    "## <font color=#0000FF>4.插入圖片:</font>\n",
    "\n",
    "Key入: !+[圖片說明]+(圖片檔名)<p>\n",
    "圖片須放在與jupyter notebook 同一個資料夾<p>\n",
    "\n",
    "## <font color=#0000FF>5.分項說明:</font>\n",
    "\n",
    "如果要有分項效果，分項文字前加入*<p>\n",
    "\n",
    "## <font color=#0000FF>6.字體顏色字體字型更改:</font>\n",
    "\n",
    "> [ <font color=#008000 size=5>顏色16進位編碼</font> ](https://blog.csdn.net/testcs_dn/article/details/45719357/)\n",
    ">![文字顏色與字型](colorimg.PNG)\n",
    "\n",
    "## <font color=#0000FF>7.數學算式優化:</font>\n",
    "\n",
    "在Markdown裡面使用LaTex語法(隨文模式):<p>\n",
    ">![數學算式優化](數學符號.PNG)\n",
    "<p>\n",
    "前後各加上兩個錢字號將會把算式置中 :\n",
    "\n",
    "$$\\int_1^0 X^3+2X^2+X \\,dx$$\n",
    "\n",
    "## <font color=#0000FF>8.魔術指令:</font>\n",
    ">輸入%pylab inline 就可以進行多方面智慧運算\n",
    ">\n",
    ">\n"
   ]
  },
  {
   "cell_type": "markdown",
   "metadata": {},
   "source": [
    "# Python 筆記\n",
    "## <font color=#0000FF>1. Input用法:</font>\n",
    "![input用法](input用法.PNG)\n",
    "## <font color=#0000FF>2. while迴圈用法:</font>\n",
    "![while迴圈用法](while迴圈.PNG)\n",
    "## <font color=#0000FF>3. format用法:</font>\n",
    ">### 在字串中插入已指派的變數\n",
    "![format用法](format.PNG)"
   ]
  },
  {
   "cell_type": "code",
   "execution_count": null,
   "metadata": {},
   "outputs": [],
   "source": []
  }
 ],
 "metadata": {
  "kernelspec": {
   "display_name": "Python 3",
   "language": "python",
   "name": "python3"
  },
  "language_info": {
   "codemirror_mode": {
    "name": "ipython",
    "version": 3
   },
   "file_extension": ".py",
   "mimetype": "text/x-python",
   "name": "python",
   "nbconvert_exporter": "python",
   "pygments_lexer": "ipython3",
   "version": "3.7.4"
  }
 },
 "nbformat": 4,
 "nbformat_minor": 2
}
