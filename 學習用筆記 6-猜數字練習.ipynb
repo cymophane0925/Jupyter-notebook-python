{
 "cells": [
  {
   "cell_type": "markdown",
   "metadata": {},
   "source": [
    "## 猜數字練習(終極密碼)"
   ]
  },
  {
   "cell_type": "code",
   "execution_count": 2,
   "metadata": {},
   "outputs": [
    {
     "name": "stdout",
     "output_type": "stream",
     "text": [
      "Populating the interactive namespace from numpy and matplotlib\n"
     ]
    }
   ],
   "source": [
    "%pylab inline"
   ]
  },
  {
   "cell_type": "code",
   "execution_count": null,
   "metadata": {},
   "outputs": [],
   "source": [
    "randint(1, 100) #1~100隨機亂數"
   ]
  },
  {
   "cell_type": "code",
   "execution_count": 31,
   "metadata": {},
   "outputs": [
    {
     "ename": "SyntaxError",
     "evalue": "unexpected EOF while parsing (<ipython-input-31-7786133800a3>, line 10)",
     "output_type": "error",
     "traceback": [
      "\u001b[1;36m  File \u001b[1;32m\"<ipython-input-31-7786133800a3>\"\u001b[1;36m, line \u001b[1;32m10\u001b[0m\n\u001b[1;33m    \u001b[0m\n\u001b[1;37m    ^\u001b[0m\n\u001b[1;31mSyntaxError\u001b[0m\u001b[1;31m:\u001b[0m unexpected EOF while parsing\n"
     ]
    }
   ],
   "source": [
    "#從1~100裡面隨機窕選一個數字\n",
    "#使用input輸入數字，若符合就顯示正確，反之則不正確\n",
    "\n",
    "number = randint(1,100) \n",
    "x = int(input(\">> \"))\n",
    "\n",
    "\n"
   ]
  },
  {
   "cell_type": "code",
   "execution_count": null,
   "metadata": {},
   "outputs": [
    {
     "name": "stdout",
     "output_type": "stream",
     "text": [
      ">> 66\n",
      "66.0至0\n",
      ">> 33\n",
      "33.0至66.0\n",
      ">> 45\n",
      "45.0至33.0\n",
      ">> 40\n",
      "40.0至45.0\n",
      ">> 41\n",
      "bingo\n"
     ]
    }
   ],
   "source": [
    "x = randint(1, 101)\n",
    "i = 0\n",
    "n = 100\n",
    "q = 0\n",
    "while i < 100:\n",
    "    z = float(input(\">> \"))\n",
    "    if z == x:\n",
    "        print(\"bingo\")\n",
    "    elif z > x :\n",
    "        print(str(z) +\"至\" + str(min(q,n)))\n",
    "        n = z\n",
    "    elif z < x:\n",
    "        print(str(z) + \"至\" + str(max(q,n)))\n",
    "        q = z\n",
    "i= i + 1"
   ]
  },
  {
   "cell_type": "code",
   "execution_count": null,
   "metadata": {},
   "outputs": [],
   "source": []
  }
 ],
 "metadata": {
  "kernelspec": {
   "display_name": "Python 3",
   "language": "python",
   "name": "python3"
  },
  "language_info": {
   "codemirror_mode": {
    "name": "ipython",
    "version": 3
   },
   "file_extension": ".py",
   "mimetype": "text/x-python",
   "name": "python",
   "nbconvert_exporter": "python",
   "pygments_lexer": "ipython3",
   "version": "3.7.4"
  }
 },
 "nbformat": 4,
 "nbformat_minor": 2
}
