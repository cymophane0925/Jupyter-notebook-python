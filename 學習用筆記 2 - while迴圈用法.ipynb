{
 "cells": [
  {
   "cell_type": "markdown",
   "metadata": {},
   "source": [
    "## 迴圈\n",
    "> S = S + 1 意思就是每執行一次就加一 <p>\n",
    "### while迴圈應用\n",
    "> S = 1 #宣告S從1開始<p>\n",
    "> While S<10 : #給迴圈While條件要小於10，若正確就繼續執行<p>\n",
    "> print(\"*\"*S) #每一次印出乘上S次的星號<p>\n",
    "> S = S + 1 #讓迴圈停止，就是讓While條件不符合小於10(也就是一直加到S = 11) <p>"
   ]
  },
  {
   "cell_type": "markdown",
   "metadata": {},
   "source": [
    "## 迴圈應用\n",
    "練習做出輸入密碼錯誤顯示"
   ]
  },
  {
   "cell_type": "code",
   "execution_count": null,
   "metadata": {},
   "outputs": [
    {
     "name": "stdout",
     "output_type": "stream",
     "text": [
      "輸入密碼 16565\n",
      "密碼錯誤\n"
     ]
    }
   ],
   "source": [
    "password = \"\"\n",
    "while password != \"10009751\":\n",
    "    password = input(\"輸入密碼 \")\n",
    "    print(\"密碼錯誤\")"
   ]
  },
  {
   "cell_type": "code",
   "execution_count": null,
   "metadata": {},
   "outputs": [],
   "source": [
    "password = \"\"\n",
    "while password != \"10009751\":\n",
    "    password = input(\"輸入密碼 \")\n",
    "    if password == \"10009751\" :\n",
    "        print (\"welcome\")\n",
    "    else :\n",
    "        print(\"密碼錯誤\")\n",
    "    "
   ]
  },
  {
   "cell_type": "code",
   "execution_count": null,
   "metadata": {},
   "outputs": [],
   "source": [
    "CC = \" \"\n",
    "while CC != \"bye\" :\n",
    "    CC = input(\"攝氏 = \")\n",
    "    print(\"華氏 {} 度\".format(float(CC)*9/5 + 32))"
   ]
  },
  {
   "cell_type": "code",
   "execution_count": null,
   "metadata": {},
   "outputs": [],
   "source": []
  }
 ],
 "metadata": {
  "kernelspec": {
   "display_name": "Python 3",
   "language": "python",
   "name": "python3"
  },
  "language_info": {
   "codemirror_mode": {
    "name": "ipython",
    "version": 3
   },
   "file_extension": ".py",
   "mimetype": "text/x-python",
   "name": "python",
   "nbconvert_exporter": "python",
   "pygments_lexer": "ipython3",
   "version": "3.7.4"
  }
 },
 "nbformat": 4,
 "nbformat_minor": 2
}
